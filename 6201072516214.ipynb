{
 "cells": [
  {
   "cell_type": "code",
   "execution_count": 7,
   "metadata": {},
   "outputs": [],
   "source": [
    "import cv2\n",
    "import numpy as np\n",
    "import os\n"
   ]
  },
  {
   "cell_type": "code",
   "execution_count": 8,
   "metadata": {},
   "outputs": [],
   "source": [
    "img = cv2.imread('./images/final_exam/Templates/Template-2.png', cv2.IMREAD_GRAYSCALE)\n",
    "cap = cv2.VideoCapture('./videos/final_exam/Dataset-2/left_output.avi')\n",
    "cap.set(cv2.CAP_PROP_FRAME_WIDTH, 1280)\n",
    "cap.set(cv2.CAP_PROP_FRAME_HEIGHT, 1080)\n",
    "\n",
    "detect = cv2.xfeatures2d.SIFT_create() # การตรวจจับคุณสมบัติโดยใช้ SIFT \n",
    "ref_kpts, ref_desc = detect.detectAndCompute(img, None) #ตรวจจับและคำนวณโดยใช้ภาพ img\n",
    "index_params = dict(algorithm=0, trees=5)\n",
    "search_params = dict()\n",
    "flann = cv2.FlannBasedMatcher(index_params, search_params) #ใช้คำสั่ง จับคู่\n",
    "\n",
    "\n",
    "while True : \n",
    "    _, frame = cap.read()\n",
    "    grayframe = cv2.cvtColor(frame,cv2.COLOR_BGR2GRAY)\n",
    "    grayframe_kpts, grayframe_desc = detect.detectAndCompute(grayframe, None) # ตรวจจับและคำนวณโดยใช้วีดีโอที่เป็นสีเทา\n",
    "    matches = flann.knnMatch(ref_desc, grayframe_desc,k=2) # จับคู่ ref_desc(ภาพ) และ grayframe_desc(VDO)\n",
    "\n",
    "    goodpoints = []\n",
    "    goodpointslist = []\n",
    "    \n",
    "    for m,n in matches :\n",
    "        if m.distance < 0.7*n.distance :\n",
    "            goodpoints.append(m)\n",
    "            goodpointslist.append([m])\n",
    "\n",
    "    if len(goodpoints) >14:\n",
    "        queryIdx = np.float32([ref_kpts[m.queryIdx].pt for m in goodpoints]).reshape(-1,1,2)\n",
    "        trainIdx = np.float32([grayframe_kpts[m.trainIdx].pt for m in goodpoints]).reshape(-1, 1, 2)\n",
    "        matrix, inlier_masks = cv2.findHomography(queryIdx, trainIdx, cv2.RANSAC, 3.0) #หาค่า Homography\n",
    "        matches_mask = inlier_masks.ravel().tolist()\n",
    "        h, w = img.shape[:2]\n",
    "        phase = np.float32([[0, 0], [0, h-1], [w-1, h-1], [w-1, 0]]).reshape(-1, 1, 2)\n",
    "        margin = cv2.perspectiveTransform(phase, matrix)\n",
    "        detected = cv2.polylines(frame, [np.int32(margin)], True, (0, 255, 80), 2,cv2.LINE_AA)\n",
    "        drawmatch_img = cv2.drawMatchesKnn(img, ref_kpts,detected,grayframe_kpts, goodpointslist, None, flags=2, matchesMask=inlier_masks)\n",
    "        cv2.imshow(\"drawmatch_img\",drawmatch_img)    \n",
    "    \n",
    "    cv2.imshow(\"framet\",frame)\n",
    "\n",
    "    if cv2.waitKey(33) & 0xFF==ord('q'):\n",
    "        break\n",
    "cap.release()\n",
    "cv2.destroyAllWindows()"
   ]
  }
 ],
 "metadata": {
  "interpreter": {
   "hash": "a03b82eee6ed37095d2e29f837ab26110dfed076211784aeb2e73b11b017d17b"
  },
  "kernelspec": {
   "display_name": "Python 3.9.7 64-bit",
   "language": "python",
   "name": "python3"
  },
  "language_info": {
   "codemirror_mode": {
    "name": "ipython",
    "version": 3
   },
   "file_extension": ".py",
   "mimetype": "text/x-python",
   "name": "python",
   "nbconvert_exporter": "python",
   "pygments_lexer": "ipython3",
   "version": "3.8.10"
  },
  "orig_nbformat": 4
 },
 "nbformat": 4,
 "nbformat_minor": 2
}
